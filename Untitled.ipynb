{
 "cells": [
  {
   "cell_type": "code",
   "execution_count": null,
   "metadata": {},
   "outputs": [],
   "source": [
    "#HOMEWORK NO. 7\n",
    "\n",
    "#1. OPENING the folder where are my emails\n",
    "\n",
    "import os\n",
    "\n",
    "folder = 'allen_p_sent_emails'\n",
    "filepaths = [os.path.join(folder, f) for f in os.listdir(folder)]"
   ]
  },
  {
   "cell_type": "code",
   "execution_count": null,
   "metadata": {},
   "outputs": [],
   "source": [
    "#2. GETTING IT Statistics of the folder with its files\n",
    "os.stat('allen_p_sent_emails')"
   ]
  },
  {
   "cell_type": "code",
   "execution_count": null,
   "metadata": {},
   "outputs": [],
   "source": [
    "#3. ANALYZING the emails metadata\n",
    "#From 0-99 about files and 100 about the folder\n",
    "\n",
    "!pip install folderstats\n",
    "import folderstats\n",
    "df = folderstats.folderstats('allen_p_sent_emails', hash_name='md5', ignore_hidden=True)\n",
    "df"
   ]
  },
  {
   "cell_type": "code",
   "execution_count": null,
   "metadata": {},
   "outputs": [],
   "source": [
    "#4. ANALYZING files by extension.  In this example, all emails are in .txt extension\n",
    "import matplotlib.pyplot as plt\n",
    "\n",
    "with plt.style.context('ggplot'):\n",
    "    df['extension'].value_counts().plot(\n",
    "        kind='bar', color='C1', title='Extension Distribution by Count');"
   ]
  },
  {
   "cell_type": "code",
   "execution_count": null,
   "metadata": {},
   "outputs": [],
   "source": [
    "#5. ANALYZING the size per file extension.  In this case the whole size correspond to .txt files\n",
    "with plt.style.context('ggplot'):\n",
    "    # Group by extension and sum all sizes for each extension \n",
    "    extension_sizes = df.groupby('extension')['size'].sum()\n",
    "    # Sort elements by size\n",
    "    extension_sizes = extension_sizes.sort_values(ascending=False)\n",
    "    \n",
    "    extension_sizes.plot(\n",
    "        kind='bar', color='C1', title='Extension Distribution by Size');"
   ]
  },
  {
   "cell_type": "code",
   "execution_count": null,
   "metadata": {},
   "outputs": [],
   "source": []
  },
  {
   "cell_type": "code",
   "execution_count": null,
   "metadata": {},
   "outputs": [],
   "source": []
  }
 ],
 "metadata": {
  "kernelspec": {
   "display_name": "Python 3",
   "language": "python",
   "name": "python3"
  },
  "language_info": {
   "codemirror_mode": {
    "name": "ipython",
    "version": 3
   },
   "file_extension": ".py",
   "mimetype": "text/x-python",
   "name": "python",
   "nbconvert_exporter": "python",
   "pygments_lexer": "ipython3",
   "version": "3.8.3"
  }
 },
 "nbformat": 4,
 "nbformat_minor": 4
}
