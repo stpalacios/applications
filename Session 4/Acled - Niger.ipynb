{
 "cells": [
  {
   "cell_type": "code",
   "execution_count": 1,
   "metadata": {},
   "outputs": [],
   "source": [
    "#import libraries\n",
    "import requests\n",
    "from datetime import datetime as dt\n",
    "from datetime import timedelta\n",
    "import pandas as pd\n"
   ]
  },
  {
   "cell_type": "code",
   "execution_count": 5,
   "metadata": {},
   "outputs": [
    {
     "name": "stdout",
     "output_type": "stream",
     "text": [
      "https://api.acleddata.com/acled/read?terms=accept&iso=562 <class 'str'>\n"
     ]
    }
   ],
   "source": [
    "# get events from n days ago\n",
    "iso = 562 #Look in ACLED documentation ISO code for number this is for Niger\n",
    "limit = 400\n",
    "\n",
    "api_url = 'https://api.acleddata.com/acled/read?terms=accept&iso={}'.format(iso)\n",
    "print (api_url, type(api_url)) #creates request according to ACLED format specifications - p. 13"
   ]
  },
  {
   "cell_type": "code",
   "execution_count": 6,
   "metadata": {},
   "outputs": [
    {
     "data": {
      "text/plain": [
       "500"
      ]
     },
     "execution_count": 6,
     "metadata": {},
     "output_type": "execute_result"
    }
   ],
   "source": [
    "response = requests.get(api_url)\n",
    "data = response.json()\n",
    "data.keys()\n",
    "data['count'] "
   ]
  },
  {
   "cell_type": "markdown",
   "metadata": {},
   "source": [
    "### From the documentation we know this is the max return --- How can we get all the results?"
   ]
  },
  {
   "cell_type": "code",
   "execution_count": 7,
   "metadata": {},
   "outputs": [],
   "source": [
    "# Let's mkae a function that updates our search to get the new pages\n",
    "\n",
    "def ping_acled(api_url): \n",
    "    '''\n",
    "    Takes one parameter search term for API\n",
    "    '''\n",
    "    \n",
    "    response = requests.get(api_url)\n",
    "    data = response.json()\n",
    "    return data\n",
    "    "
   ]
  },
  {
   "cell_type": "code",
   "execution_count": 8,
   "metadata": {},
   "outputs": [
    {
     "name": "stdout",
     "output_type": "stream",
     "text": [
      "starting  1   500\n",
      "Total Results  500\n",
      "starting  2   500\n",
      "Total Results  1000\n",
      "starting  3   500\n",
      "Total Results  1381\n"
     ]
    }
   ],
   "source": [
    "\n",
    "results = [] # empty data strcture to store results\n",
    "num_results = 500 # condition to continue adding pages\n",
    "count = 0  # tracker of results\n",
    "page = 1 #Per the documentation each page will give us more results\n",
    "\n",
    "while num_results == 500: #if less 500 or 0 we know we have all the results\n",
    "    print (\"starting \", page, \" \", num_results) #just to see our progress\n",
    "    api_url = 'https://api.acleddata.com/acled/read?terms=accept&iso={}&page={}'.format(iso,page) #the search\n",
    "    data = ping_acled(api_url) #call the previous function \n",
    "    results.append(data['data']) #store in our results\n",
    "    count += data['count'] #Track number of results\n",
    "    num_results = data['count'] #update our condition\n",
    "    page += 1 #update our page variable\n",
    "    print (\"Total Results \", count) #Track our progress\n",
    "    \n",
    "\n"
   ]
  },
  {
   "cell_type": "code",
   "execution_count": 9,
   "metadata": {},
   "outputs": [
    {
     "name": "stdout",
     "output_type": "stream",
     "text": [
      "500\n",
      "1000\n",
      "1381\n"
     ]
    }
   ],
   "source": [
    "#Now I want to put them together into one giant result\n",
    "super_list = []\n",
    "for res in results: \n",
    "    super_list += res\n",
    "    print (len(super_list))"
   ]
  },
  {
   "cell_type": "code",
   "execution_count": 10,
   "metadata": {},
   "outputs": [
    {
     "data": {
      "text/html": [
       "<div>\n",
       "<style scoped>\n",
       "    .dataframe tbody tr th:only-of-type {\n",
       "        vertical-align: middle;\n",
       "    }\n",
       "\n",
       "    .dataframe tbody tr th {\n",
       "        vertical-align: top;\n",
       "    }\n",
       "\n",
       "    .dataframe thead th {\n",
       "        text-align: right;\n",
       "    }\n",
       "</style>\n",
       "<table border=\"1\" class=\"dataframe\">\n",
       "  <thead>\n",
       "    <tr style=\"text-align: right;\">\n",
       "      <th></th>\n",
       "      <th>data_id</th>\n",
       "      <th>iso</th>\n",
       "      <th>event_id_cnty</th>\n",
       "      <th>event_id_no_cnty</th>\n",
       "      <th>event_date</th>\n",
       "      <th>year</th>\n",
       "      <th>time_precision</th>\n",
       "      <th>event_type</th>\n",
       "      <th>sub_event_type</th>\n",
       "      <th>actor1</th>\n",
       "      <th>...</th>\n",
       "      <th>location</th>\n",
       "      <th>latitude</th>\n",
       "      <th>longitude</th>\n",
       "      <th>geo_precision</th>\n",
       "      <th>source</th>\n",
       "      <th>source_scale</th>\n",
       "      <th>notes</th>\n",
       "      <th>fatalities</th>\n",
       "      <th>timestamp</th>\n",
       "      <th>iso3</th>\n",
       "    </tr>\n",
       "  </thead>\n",
       "  <tbody>\n",
       "    <tr>\n",
       "      <th>0</th>\n",
       "      <td>7187323</td>\n",
       "      <td>562</td>\n",
       "      <td>NIR1433</td>\n",
       "      <td>1433</td>\n",
       "      <td>2020-09-03</td>\n",
       "      <td>2020</td>\n",
       "      <td>1</td>\n",
       "      <td>Violence against civilians</td>\n",
       "      <td>Attack</td>\n",
       "      <td>Unidentified Armed Group (Niger)</td>\n",
       "      <td>...</td>\n",
       "      <td>Kargui Bangou</td>\n",
       "      <td>12.9486</td>\n",
       "      <td>3.5055</td>\n",
       "      <td>1</td>\n",
       "      <td>Facebook; Whatsapp</td>\n",
       "      <td>New media</td>\n",
       "      <td>On 3 September 2020, unknown gunmen opened fir...</td>\n",
       "      <td>1</td>\n",
       "      <td>1599525365</td>\n",
       "      <td>NER</td>\n",
       "    </tr>\n",
       "    <tr>\n",
       "      <th>1</th>\n",
       "      <td>7187322</td>\n",
       "      <td>562</td>\n",
       "      <td>NIR1432</td>\n",
       "      <td>1432</td>\n",
       "      <td>2020-09-02</td>\n",
       "      <td>2020</td>\n",
       "      <td>1</td>\n",
       "      <td>Violence against civilians</td>\n",
       "      <td>Abduction/forced disappearance</td>\n",
       "      <td>Islamic State (West Africa) and/or Boko Haram ...</td>\n",
       "      <td>...</td>\n",
       "      <td>NGuigmi</td>\n",
       "      <td>14.2495</td>\n",
       "      <td>13.1092</td>\n",
       "      <td>1</td>\n",
       "      <td>Facebook; Urgence Diffa; Jeunesse Diffa</td>\n",
       "      <td>New media</td>\n",
       "      <td>On 2 September 2020, presumed ISWAP or Boko Ha...</td>\n",
       "      <td>0</td>\n",
       "      <td>1599525365</td>\n",
       "      <td>NER</td>\n",
       "    </tr>\n",
       "    <tr>\n",
       "      <th>2</th>\n",
       "      <td>7188500</td>\n",
       "      <td>562</td>\n",
       "      <td>NIR1430</td>\n",
       "      <td>1430</td>\n",
       "      <td>2020-08-30</td>\n",
       "      <td>2020</td>\n",
       "      <td>1</td>\n",
       "      <td>Battles</td>\n",
       "      <td>Armed clash</td>\n",
       "      <td>Islamic State (West Africa)</td>\n",
       "      <td>...</td>\n",
       "      <td>Madori</td>\n",
       "      <td>13.3151</td>\n",
       "      <td>12.5583</td>\n",
       "      <td>2</td>\n",
       "      <td>Facebook</td>\n",
       "      <td>New media</td>\n",
       "      <td>On 30 August 2020, presumed ISWAP militants at...</td>\n",
       "      <td>2</td>\n",
       "      <td>1599525368</td>\n",
       "      <td>NER</td>\n",
       "    </tr>\n",
       "    <tr>\n",
       "      <th>3</th>\n",
       "      <td>7189947</td>\n",
       "      <td>562</td>\n",
       "      <td>NIR1429</td>\n",
       "      <td>1429</td>\n",
       "      <td>2020-08-30</td>\n",
       "      <td>2020</td>\n",
       "      <td>1</td>\n",
       "      <td>Violence against civilians</td>\n",
       "      <td>Abduction/forced disappearance</td>\n",
       "      <td>Islamic State (West Africa) and/or Boko Haram ...</td>\n",
       "      <td>...</td>\n",
       "      <td>Bori</td>\n",
       "      <td>13.9223</td>\n",
       "      <td>13.1273</td>\n",
       "      <td>1</td>\n",
       "      <td>Urgence Diffa</td>\n",
       "      <td>New media</td>\n",
       "      <td>On 30 August 2020, presumed ISWAP or Boko Hara...</td>\n",
       "      <td>0</td>\n",
       "      <td>1599525371</td>\n",
       "      <td>NER</td>\n",
       "    </tr>\n",
       "    <tr>\n",
       "      <th>4</th>\n",
       "      <td>7190014</td>\n",
       "      <td>562</td>\n",
       "      <td>NIR1431</td>\n",
       "      <td>1431</td>\n",
       "      <td>2020-08-30</td>\n",
       "      <td>2020</td>\n",
       "      <td>1</td>\n",
       "      <td>Violence against civilians</td>\n",
       "      <td>Abduction/forced disappearance</td>\n",
       "      <td>Islamic State (West Africa) and/or Boko Haram ...</td>\n",
       "      <td>...</td>\n",
       "      <td>Marwey</td>\n",
       "      <td>13.1576</td>\n",
       "      <td>12.4687</td>\n",
       "      <td>1</td>\n",
       "      <td>Whatsapp</td>\n",
       "      <td>New media</td>\n",
       "      <td>On 30 August 2020, suspected ISWAP or Boko Har...</td>\n",
       "      <td>0</td>\n",
       "      <td>1599525371</td>\n",
       "      <td>NER</td>\n",
       "    </tr>\n",
       "  </tbody>\n",
       "</table>\n",
       "<p>5 rows × 31 columns</p>\n",
       "</div>"
      ],
      "text/plain": [
       "   data_id  iso event_id_cnty event_id_no_cnty  event_date  year  \\\n",
       "0  7187323  562       NIR1433             1433  2020-09-03  2020   \n",
       "1  7187322  562       NIR1432             1432  2020-09-02  2020   \n",
       "2  7188500  562       NIR1430             1430  2020-08-30  2020   \n",
       "3  7189947  562       NIR1429             1429  2020-08-30  2020   \n",
       "4  7190014  562       NIR1431             1431  2020-08-30  2020   \n",
       "\n",
       "  time_precision                  event_type                  sub_event_type  \\\n",
       "0              1  Violence against civilians                          Attack   \n",
       "1              1  Violence against civilians  Abduction/forced disappearance   \n",
       "2              1                     Battles                     Armed clash   \n",
       "3              1  Violence against civilians  Abduction/forced disappearance   \n",
       "4              1  Violence against civilians  Abduction/forced disappearance   \n",
       "\n",
       "                                              actor1  ...       location  \\\n",
       "0                   Unidentified Armed Group (Niger)  ...  Kargui Bangou   \n",
       "1  Islamic State (West Africa) and/or Boko Haram ...  ...        NGuigmi   \n",
       "2                        Islamic State (West Africa)  ...         Madori   \n",
       "3  Islamic State (West Africa) and/or Boko Haram ...  ...           Bori   \n",
       "4  Islamic State (West Africa) and/or Boko Haram ...  ...         Marwey   \n",
       "\n",
       "  latitude longitude geo_precision                                   source  \\\n",
       "0  12.9486    3.5055             1                       Facebook; Whatsapp   \n",
       "1  14.2495   13.1092             1  Facebook; Urgence Diffa; Jeunesse Diffa   \n",
       "2  13.3151   12.5583             2                                 Facebook   \n",
       "3  13.9223   13.1273             1                            Urgence Diffa   \n",
       "4  13.1576   12.4687             1                                 Whatsapp   \n",
       "\n",
       "  source_scale                                              notes fatalities  \\\n",
       "0    New media  On 3 September 2020, unknown gunmen opened fir...          1   \n",
       "1    New media  On 2 September 2020, presumed ISWAP or Boko Ha...          0   \n",
       "2    New media  On 30 August 2020, presumed ISWAP militants at...          2   \n",
       "3    New media  On 30 August 2020, presumed ISWAP or Boko Hara...          0   \n",
       "4    New media  On 30 August 2020, suspected ISWAP or Boko Har...          0   \n",
       "\n",
       "    timestamp iso3  \n",
       "0  1599525365  NER  \n",
       "1  1599525365  NER  \n",
       "2  1599525368  NER  \n",
       "3  1599525371  NER  \n",
       "4  1599525371  NER  \n",
       "\n",
       "[5 rows x 31 columns]"
      ]
     },
     "execution_count": 10,
     "metadata": {},
     "output_type": "execute_result"
    }
   ],
   "source": [
    "#convert it into an pandas data frame or just use your data structure and do more stuff\n",
    "niger_res = pd.DataFrame(super_list)\n",
    "niger_res.head()"
   ]
  },
  {
   "cell_type": "markdown",
   "metadata": {},
   "source": [
    "### Do the right thing, take some time to look at the codebook and see what these columns are"
   ]
  },
  {
   "cell_type": "code",
   "execution_count": 11,
   "metadata": {},
   "outputs": [
    {
     "data": {
      "text/plain": [
       "Index(['data_id', 'iso', 'event_id_cnty', 'event_id_no_cnty', 'event_date',\n",
       "       'year', 'time_precision', 'event_type', 'sub_event_type', 'actor1',\n",
       "       'assoc_actor_1', 'inter1', 'actor2', 'assoc_actor_2', 'inter2',\n",
       "       'interaction', 'region', 'country', 'admin1', 'admin2', 'admin3',\n",
       "       'location', 'latitude', 'longitude', 'geo_precision', 'source',\n",
       "       'source_scale', 'notes', 'fatalities', 'timestamp', 'iso3'],\n",
       "      dtype='object')"
      ]
     },
     "execution_count": 11,
     "metadata": {},
     "output_type": "execute_result"
    }
   ],
   "source": [
    "niger_res.columns\n"
   ]
  },
  {
   "cell_type": "markdown",
   "metadata": {},
   "source": [
    "### Homework --- Make a map of some ACLED Data (absolutely use the code from the Global Terrorism Database exercise)"
   ]
  },
  {
   "cell_type": "code",
   "execution_count": null,
   "metadata": {},
   "outputs": [],
   "source": []
  }
 ],
 "metadata": {
  "kernelspec": {
   "display_name": "Python 3",
   "language": "python",
   "name": "python3"
  },
  "language_info": {
   "codemirror_mode": {
    "name": "ipython",
    "version": 3
   },
   "file_extension": ".py",
   "mimetype": "text/x-python",
   "name": "python",
   "nbconvert_exporter": "python",
   "pygments_lexer": "ipython3",
   "version": "3.7.6"
  }
 },
 "nbformat": 4,
 "nbformat_minor": 2
}
